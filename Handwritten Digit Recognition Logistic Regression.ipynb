{
 "cells": [
  {
   "cell_type": "code",
   "execution_count": 1,
   "id": "9a8c141e-5d55-4495-b395-d3ece7f89d25",
   "metadata": {},
   "outputs": [
    {
     "name": "stdout",
     "output_type": "stream",
     "text": [
      "Logistic Regression Training Accuracy: 98.78%\n",
      "Logistic Regression Testing Accuracy: 89.51%\n",
      "Perceptron Training Accuracy: 93.90%\n",
      "Perceptron Testing Accuracy: 86.67%\n"
     ]
    }
   ],
   "source": [
    "import numpy as np\n",
    "import matplotlib.pyplot as plt\n",
    "from sklearn.linear_model import LogisticRegression, Perceptron\n",
    "from sklearn.metrics import accuracy_score\n",
    "from tensorflow.keras.datasets import mnist\n",
    "import warnings\n",
    "warnings.filterwarnings('ignore')\n",
    "\n",
    "# Global Variables\n",
    "training_size = 5000\n",
    "testing_size = 10000\n",
    "\n",
    "# Load MNIST dataset\n",
    "(train_images, train_labels), (test_images, test_labels) = mnist.load_data()\n",
    "\n",
    "train_images = train_images[:training_size].reshape(training_size, -1) / 255.0\n",
    "train_labels = train_labels[:training_size]\n",
    "test_images = test_images[:testing_size].reshape(testing_size, -1) / 255.0\n",
    "test_labels = test_labels[:testing_size]\n",
    "\n",
    "def plot_learning_curve(x, y, title, xlabel, ylabel, filename):\n",
    "    plt.figure()\n",
    "    plt.plot(x, y)\n",
    "    plt.title(title)\n",
    "    plt.xlabel(xlabel)\n",
    "    plt.ylabel(ylabel)\n",
    "    plt.savefig(filename)\n",
    "    plt.show()\n",
    "\n",
    "def run_logistic_regression(train_images, train_labels, test_images, test_labels):\n",
    "    clf = LogisticRegression(max_iter=2000, solver='saga', multi_class='multinomial')\n",
    "    clf.fit(train_images, train_labels)\n",
    "    \n",
    "    train_accuracy = clf.score(train_images, train_labels)\n",
    "    test_accuracy = clf.score(test_images, test_labels)\n",
    "    \n",
    "    print(f'Logistic Regression Training Accuracy: {train_accuracy * 100:.2f}%')\n",
    "    print(f'Logistic Regression Testing Accuracy: {test_accuracy * 100:.2f}%')\n",
    "\n",
    "def run_perceptron(train_images, train_labels, test_images, test_labels):\n",
    "    clf = Perceptron(max_iter=1000, tol=1e-3, eta0=0.01, random_state=0)\n",
    "    clf.fit(train_images, train_labels)\n",
    "    \n",
    "    train_accuracy = clf.score(train_images, train_labels)\n",
    "    test_accuracy = clf.score(test_images, test_labels)\n",
    "    \n",
    "    print(f'Perceptron Training Accuracy: {train_accuracy * 100:.2f}%')\n",
    "    print(f'Perceptron Testing Accuracy: {test_accuracy * 100:.2f}%')\n",
    "\n",
    "def main():\n",
    "    run_logistic_regression(train_images, train_labels, test_images, test_labels)\n",
    "    run_perceptron(train_images, train_labels, test_images, test_labels)\n",
    "\n",
    "if __name__ == \"__main__\":\n",
    "    main()\n"
   ]
  },
  {
   "cell_type": "code",
   "execution_count": null,
   "id": "bff5623f-dc1d-4310-8c86-8e9e9122f028",
   "metadata": {},
   "outputs": [],
   "source": []
  }
 ],
 "metadata": {
  "kernelspec": {
   "display_name": "Python 3 (ipykernel)",
   "language": "python",
   "name": "python3"
  },
  "language_info": {
   "codemirror_mode": {
    "name": "ipython",
    "version": 3
   },
   "file_extension": ".py",
   "mimetype": "text/x-python",
   "name": "python",
   "nbconvert_exporter": "python",
   "pygments_lexer": "ipython3",
   "version": "3.12.3"
  }
 },
 "nbformat": 4,
 "nbformat_minor": 5
}
